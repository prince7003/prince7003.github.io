{
 "cells": [
  {
   "cell_type": "markdown",
   "id": "e3d2ca0e-cbf9-40af-8aba-18917f91a525",
   "metadata": {},
   "source": [
    "# How to check if two images are same are not.\n",
    "\n",
    "\n"
   ]
  },
  {
   "cell_type": "code",
   "execution_count": 1,
   "id": "3e49a250-3a00-4af3-a9fe-86188de363e0",
   "metadata": {},
   "outputs": [],
   "source": [
    "import numpy as np\n",
    "import cv2"
   ]
  },
  {
   "cell_type": "code",
   "execution_count": 6,
   "id": "ccc98526-b5ed-4856-b342-50897b6c9524",
   "metadata": {},
   "outputs": [
    {
     "name": "stdout",
     "output_type": "stream",
     "text": [
      "Image matching Error between the two images: 71.15006839206238\n"
     ]
    }
   ],
   "source": [
    "img2 = cv2.imread('MEDFUSE.jpg',0)\n",
    "img1 = cv2.imread('Test_Image.jpg',0)\n",
    " \n",
    "\n",
    "def mse(img1, img2):\n",
    "   h, w  = img1.shape\n",
    "   diff = cv2.subtract(img1, img2)\n",
    "   err = np.sum(diff**2)\n",
    "   mse = err/(float(h*w))\n",
    "   return mse, diff\n",
    "\n",
    "\n",
    "error, diff = mse(img1, img2)\n",
    "print(\"Image matching Error between the two images:\",error)\n",
    "# cv2.imwrite('difference_image_2.jpg', diff)\n"
   ]
  },
  {
   "cell_type": "code",
   "execution_count": null,
   "id": "6616600c-735d-468c-a1eb-c9c0006c34e3",
   "metadata": {},
   "outputs": [],
   "source": []
  }
 ],
 "metadata": {
  "kernelspec": {
   "display_name": "Python 3 (ipykernel)",
   "language": "python",
   "name": "python3"
  },
  "language_info": {
   "codemirror_mode": {
    "name": "ipython",
    "version": 3
   },
   "file_extension": ".py",
   "mimetype": "text/x-python",
   "name": "python",
   "nbconvert_exporter": "python",
   "pygments_lexer": "ipython3",
   "version": "3.12.1"
  }
 },
 "nbformat": 4,
 "nbformat_minor": 5
}
